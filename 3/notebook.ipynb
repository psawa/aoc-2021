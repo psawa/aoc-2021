{
 "cells": [
  {
   "cell_type": "markdown",
   "id": "baeee5d7",
   "metadata": {},
   "source": [
    "# 1"
   ]
  },
  {
   "cell_type": "code",
   "execution_count": 1,
   "id": "783d5727",
   "metadata": {},
   "outputs": [],
   "source": [
    "import numpy as np\n",
    "\n",
    "with open(\"input.txt\", \"r\") as f:\n",
    "    codes = [[int(x) for x in line.strip()] for line in f]"
   ]
  },
  {
   "cell_type": "code",
   "execution_count": 2,
   "id": "37b23e5b",
   "metadata": {},
   "outputs": [],
   "source": [
    "array = np.array(codes)"
   ]
  },
  {
   "cell_type": "code",
   "execution_count": 3,
   "id": "4ff579db",
   "metadata": {},
   "outputs": [
    {
     "name": "stdout",
     "output_type": "stream",
     "text": [
      "[[0 0 0 ... 0 0 1]\n",
      " [1 1 0 ... 1 1 0]\n",
      " [1 1 0 ... 0 0 0]\n",
      " ...\n",
      " [1 1 1 ... 1 0 1]\n",
      " [0 1 0 ... 0 0 0]\n",
      " [1 1 1 ... 1 0 0]]\n"
     ]
    }
   ],
   "source": [
    "transpose = array.transpose()\n",
    "print(transpose)"
   ]
  },
  {
   "cell_type": "code",
   "execution_count": 4,
   "id": "7ca92209",
   "metadata": {},
   "outputs": [
    {
     "name": "stdout",
     "output_type": "stream",
     "text": [
      "(1000, 12)\n",
      "500.0\n"
     ]
    }
   ],
   "source": [
    "print(array.shape)\n",
    "threshold = array.shape[0]/2\n",
    "print(threshold)"
   ]
  },
  {
   "cell_type": "code",
   "execution_count": 5,
   "id": "c1a6a2c3",
   "metadata": {},
   "outputs": [
    {
     "name": "stdout",
     "output_type": "stream",
     "text": [
      "[492, 511, 507, 521, 488, 502, 510, 528, 512, 509, 492, 488]\n"
     ]
    }
   ],
   "source": [
    "sums = [sum(x) for x in transpose]\n",
    "print(sums)"
   ]
  },
  {
   "cell_type": "code",
   "execution_count": 94,
   "id": "ca3517d7",
   "metadata": {},
   "outputs": [
    {
     "name": "stdout",
     "output_type": "stream",
     "text": [
      "[0, 1, 1, 1, 0, 1, 1, 1, 1, 1, 0, 0]\n",
      "[1, 0, 0, 0, 1, 0, 0, 0, 0, 0, 1, 1]\n"
     ]
    }
   ],
   "source": [
    "gamma_rate = [1 if x>=threshold else 0 for x in sums]\n",
    "print(gamma_rate)\n",
    "\n",
    "epsilon_rate = [1 if x<threshold else 0 for x in sums]\n",
    "print(epsilon_rate)"
   ]
  },
  {
   "cell_type": "code",
   "execution_count": 95,
   "id": "979c6c38",
   "metadata": {},
   "outputs": [],
   "source": [
    "gamma_rate_int = int(''.join([str(x) for x in gamma_rate]),2)\n",
    "epsilon_rate_int = int(''.join([str(x) for x in epsilon_rate]),2)"
   ]
  },
  {
   "cell_type": "code",
   "execution_count": 96,
   "id": "abd6da64",
   "metadata": {},
   "outputs": [
    {
     "name": "stdout",
     "output_type": "stream",
     "text": [
      "4174964\n"
     ]
    }
   ],
   "source": [
    "power_consumption = gamma_rate_int*epsilon_rate_int\n",
    "print(power_consumption)"
   ]
  },
  {
   "cell_type": "markdown",
   "id": "d7e5c58b",
   "metadata": {},
   "source": [
    "# 2"
   ]
  },
  {
   "cell_type": "code",
   "execution_count": 202,
   "id": "c4727697",
   "metadata": {
    "scrolled": true
   },
   "outputs": [],
   "source": [
    "def filter_bit_criteria(candidates:np.array, bit_criterion:str):\n",
    "    \n",
    "    assert bit_criterion in [\"most\", \"least\"]\n",
    "    \n",
    "    array = candidates\n",
    "    \n",
    "    # for each bit in the codes\n",
    "    for bit_index in range(array.shape[1]):\n",
    "        median = array.shape[0]/2\n",
    "        # has more ones\n",
    "        sum_ones = sum(array.transpose()[bit_index])\n",
    "        #print(median,sum_ones)\n",
    "        if sum_ones== median:\n",
    "            criterion = 0 if bit_criterion==\"least\" else 1\n",
    "        if sum_ones > median:\n",
    "            criterion = 0 if bit_criterion==\"least\" else 1\n",
    "        if sum_ones < median:\n",
    "            criterion = 1 if bit_criterion==\"least\" else 0\n",
    "         \n",
    "        \n",
    "        maybe_excluded = []\n",
    "\n",
    "        for i, row in enumerate(array):\n",
    "            if row[bit_index] != criterion:\n",
    "                maybe_excluded.append(i)\n",
    "        if len(maybe_excluded) < len(array):\n",
    "            # Actual substraction of the rows\n",
    "            array = np.delete(array, maybe_excluded, axis=0)\n",
    "        else: \n",
    "            break\n",
    "    \n",
    "    return array[0]"
   ]
  },
  {
   "cell_type": "code",
   "execution_count": 203,
   "id": "ea2dcf7c",
   "metadata": {},
   "outputs": [
    {
     "name": "stdout",
     "output_type": "stream",
     "text": [
      "[1 1 0 0 1 1 0 0 0 0 0 0]\n",
      "[0 1 0 1 0 1 0 1 1 0 1 1]\n",
      "CPU times: user 5.23 ms, sys: 2.21 ms, total: 7.44 ms\n",
      "Wall time: 11 ms\n"
     ]
    }
   ],
   "source": [
    "%%time\n",
    "\n",
    "ogr = filter_bit_criteria(array, \"least\")\n",
    "csr = filter_bit_criteria(array, \"most\")\n",
    "\n",
    "print(ogr)\n",
    "print(csr)"
   ]
  },
  {
   "cell_type": "code",
   "execution_count": 204,
   "id": "31b87f1a",
   "metadata": {},
   "outputs": [
    {
     "name": "stdout",
     "output_type": "stream",
     "text": [
      "3264 1371\n"
     ]
    }
   ],
   "source": [
    "ogr_int = int(''.join([str(x) for x in ogr]),2)\n",
    "csr_int = int(''.join([str(x) for x in csr]),2)\n",
    "print(ogr_int, csr_int)"
   ]
  },
  {
   "cell_type": "code",
   "execution_count": 205,
   "id": "c47858ce",
   "metadata": {},
   "outputs": [
    {
     "name": "stdout",
     "output_type": "stream",
     "text": [
      "4474944\n"
     ]
    }
   ],
   "source": [
    "life_support_rating = ogr_int*csr_int\n",
    "print(life_support_rating)"
   ]
  },
  {
   "cell_type": "code",
   "execution_count": null,
   "id": "8a9ea8f6",
   "metadata": {},
   "outputs": [],
   "source": []
  }
 ],
 "metadata": {
  "kernelspec": {
   "display_name": "Python 3 (ipykernel)",
   "language": "python",
   "name": "python3"
  },
  "language_info": {
   "codemirror_mode": {
    "name": "ipython",
    "version": 3
   },
   "file_extension": ".py",
   "mimetype": "text/x-python",
   "name": "python",
   "nbconvert_exporter": "python",
   "pygments_lexer": "ipython3",
   "version": "3.10.0"
  }
 },
 "nbformat": 4,
 "nbformat_minor": 5
}
