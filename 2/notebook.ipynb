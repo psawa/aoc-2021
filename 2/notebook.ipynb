{
 "cells": [
  {
   "cell_type": "markdown",
   "id": "917c93f5",
   "metadata": {},
   "source": [
    "# 1"
   ]
  },
  {
   "cell_type": "code",
   "execution_count": null,
   "id": "88669a66",
   "metadata": {},
   "outputs": [],
   "source": [
    "trip = {\n",
    "    \"horizontal\":0, \n",
    "    \"depth\":0,\n",
    "}\n",
    "\n",
    "with open(\"input.txt\", \"r\") as f:\n",
    "    for line in f:\n",
    "        direction, value = line.split(\" \")\n",
    "        value = int(value)\n",
    "        match direction: \n",
    "            case \"forward\":\n",
    "                trip[\"horizontal\"]+=value\n",
    "            case \"up\":\n",
    "                trip[\"depth\"]-=value\n",
    "            case \"down\":\n",
    "                trip[\"depth\"]+=value"
   ]
  },
  {
   "cell_type": "code",
   "execution_count": 2,
   "id": "b5cee7ba",
   "metadata": {},
   "outputs": [
    {
     "data": {
      "text/plain": [
       "{'horizontal': 2034, 'depth': 702}"
      ]
     },
     "execution_count": 2,
     "metadata": {},
     "output_type": "execute_result"
    }
   ],
   "source": [
    "trip"
   ]
  },
  {
   "cell_type": "code",
   "execution_count": 3,
   "id": "4140648f",
   "metadata": {},
   "outputs": [
    {
     "data": {
      "text/plain": [
       "1427868"
      ]
     },
     "execution_count": 3,
     "metadata": {},
     "output_type": "execute_result"
    }
   ],
   "source": [
    "trip[\"horizontal\"]*trip[\"depth\"]"
   ]
  },
  {
   "cell_type": "markdown",
   "id": "a03f0125",
   "metadata": {},
   "source": [
    "# 2"
   ]
  },
  {
   "cell_type": "code",
   "execution_count": 7,
   "id": "7b225e1a",
   "metadata": {},
   "outputs": [],
   "source": [
    "trip = {\n",
    "    \"horizontal\":0, \n",
    "    \"depth\":0,\n",
    "    \"aim\":0\n",
    "}\n",
    "\n",
    "with open(\"input.txt\", \"r\") as f:\n",
    "    for line in f:\n",
    "        direction, value = line.split(\" \")\n",
    "        value = int(value)\n",
    "        \n",
    "        match direction: \n",
    "            case \"forward\":\n",
    "                trip[\"horizontal\"]+=value\n",
    "                trip[\"depth\"] += trip[\"aim\"]*value\n",
    "                \n",
    "            case \"up\":\n",
    "                trip[\"aim\"]-=value\n",
    "                \n",
    "            case \"down\":\n",
    "                trip[\"aim\"]+=value"
   ]
  },
  {
   "cell_type": "code",
   "execution_count": 8,
   "id": "37bc4a21",
   "metadata": {},
   "outputs": [
    {
     "data": {
      "text/plain": [
       "{'horizontal': 2034, 'depth': 770963, 'aim': 702}"
      ]
     },
     "execution_count": 8,
     "metadata": {},
     "output_type": "execute_result"
    }
   ],
   "source": [
    "trip"
   ]
  },
  {
   "cell_type": "code",
   "execution_count": 9,
   "id": "6caa9d67",
   "metadata": {},
   "outputs": [
    {
     "data": {
      "text/plain": [
       "1568138742"
      ]
     },
     "execution_count": 9,
     "metadata": {},
     "output_type": "execute_result"
    }
   ],
   "source": [
    "trip[\"horizontal\"]*trip[\"depth\"]"
   ]
  },
  {
   "cell_type": "code",
   "execution_count": null,
   "id": "3606a431",
   "metadata": {},
   "outputs": [],
   "source": []
  }
 ],
 "metadata": {
  "kernelspec": {
   "display_name": "Python 3 (ipykernel)",
   "language": "python",
   "name": "python3"
  },
  "language_info": {
   "codemirror_mode": {
    "name": "ipython",
    "version": 3
   },
   "file_extension": ".py",
   "mimetype": "text/x-python",
   "name": "python",
   "nbconvert_exporter": "python",
   "pygments_lexer": "ipython3",
   "version": "3.10.0"
  }
 },
 "nbformat": 4,
 "nbformat_minor": 5
}
