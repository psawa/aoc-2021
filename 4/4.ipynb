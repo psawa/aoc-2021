{
 "cells": [
  {
   "cell_type": "code",
   "execution_count": 161,
   "id": "6a20289b",
   "metadata": {},
   "outputs": [],
   "source": [
    "with open(\"input.txt\", \"r\") as f:\n",
    "    lines = [x.split(\"\\n\") for x in f.read().split(\"\\n\\n\")]"
   ]
  },
  {
   "cell_type": "code",
   "execution_count": 162,
   "id": "4e65e4a3",
   "metadata": {},
   "outputs": [
    {
     "data": {
      "text/plain": [
       "[['31,88,35,24,46,48,95,42,18,43,71,32,92,62,97,63,50,2,60,58,74,66,15,87,57,34,14,3,54,93,75,22,45,10,56,12,83,30,8,76,1,78,82,39,98,37,19,26,81,64,55,41,16,4,72,5,52,80,84,67,21,86,23,91,0,68,36,13,44,20,69,40,90,96,27,77,38,49,94,47,9,65,28,59,79,6,29,61,53,11,17,73,99,25,89,51,7,33,85,70'],\n",
       " ['50 83  3 31 16',\n",
       "  '47  9 94 10 86',\n",
       "  '61 22 53 46 74',\n",
       "  '77 41 79 55 62',\n",
       "  '97 78 43 73 40'],\n",
       " ['99 96 20 35 21',\n",
       "  '38 17 48 69 68',\n",
       "  ' 9 51 32 52 11',\n",
       "  '67  8 42 89 27',\n",
       "  '39 62 66 72 43']]"
      ]
     },
     "execution_count": 162,
     "metadata": {},
     "output_type": "execute_result"
    }
   ],
   "source": [
    "lines[:3]"
   ]
  },
  {
   "cell_type": "code",
   "execution_count": 165,
   "id": "7f6bf06c",
   "metadata": {},
   "outputs": [
    {
     "name": "stdout",
     "output_type": "stream",
     "text": [
      "Draws :\n",
      "[31, 88, 35, 24, 46]\n",
      "\n",
      "\n",
      "Boards (excerpt) :\n",
      "[[[50, 83, 3, 31, 16], [47, 9, 94, 10, 86], [61, 22, 53, 46, 74], [77, 41, 79, 55, 62], [97, 78, 43, 73, 40]], [[99, 96, 20, 35, 21], [38, 17, 48, 69, 68], [9, 51, 32, 52, 11], [67, 8, 42, 89, 27], [39, 62, 66, 72, 43]], [[33, 16, 4, 78, 31], [96, 66, 13, 55, 18], [47, 89, 83, 99, 85], [50, 43, 39, 34, 98], [81, 65, 7, 23, 17]], [[24, 13, 57, 84, 50], [83, 86, 98, 92, 7], [28, 31, 85, 21, 12], [37, 48, 43, 47, 67], [19, 27, 1, 20, 16]], [[38, 75, 3, 14, 4], [8, 86, 98, 94, 83], [60, 46, 63, 85, 20], [69, 26, 73, 40, 29], [48, 84, 33, 18, 74]]]\n"
     ]
    }
   ],
   "source": [
    "draws = lines[0]\n",
    "draws = [int(x) for x in draws[0].split(\",\")]\n",
    "print(\"Draws :\")\n",
    "print(draws[:5])\n",
    "print(\"\\n\")\n",
    "\n",
    "\n",
    "boards= lines[1:]\n",
    "boards = [[[int(val) for val in row.split(\" \") if val!=\"\"] for row in board if row!=\"\"] for board in boards]\n",
    "print(\"Boards (excerpt) :\")\n",
    "print(boards[:5])"
   ]
  },
  {
   "cell_type": "code",
   "execution_count": 158,
   "id": "7f0b1443",
   "metadata": {},
   "outputs": [],
   "source": [
    "assert all([len(row)==5  for board in boards for row in board ])"
   ]
  },
  {
   "cell_type": "code",
   "execution_count": 206,
   "id": "44b2b60c",
   "metadata": {},
   "outputs": [],
   "source": [
    "import numpy as np\n",
    "\n",
    "class Board():\n",
    "    def __init__(self, rows):\n",
    "        self.board = np.array(rows)\n",
    "        self.markers = np.zeros(self.board.shape)\n",
    "        self.win = False\n",
    "        \n",
    "    def __str__(self):\n",
    "        output = \"\"\n",
    "        for i, row in enumerate(self.board):\n",
    "            for j, val in enumerate(row):\n",
    "                if self.markers[i,j] == 1:\n",
    "                    item = \"x\"\n",
    "                else:\n",
    "                    item = val\n",
    "                output += f\"{item:<4}\"\n",
    "            output += \"\\n\"\n",
    "        return output\n",
    "    \n",
    "    def __repr__(self):\n",
    "        return self.__str__()\n",
    "    \n",
    "    def lookup(self, value):\n",
    "        rows, cols = np.where(self.board == value)\n",
    "        if len(rows) != 0:\n",
    "            for row, col in zip(rows, cols):\n",
    "                self.mark((row, col))\n",
    "    \n",
    "    def mark(self, position:tuple):\n",
    "        self.markers[position] = 1\n",
    "    \n",
    "    def check_win(self):\n",
    "        self.win = any([sum(row)==5 for row in self.markers]) or any([sum(col)==5 for col in self.markers.transpose()])\n",
    "        return self.win"
   ]
  },
  {
   "cell_type": "code",
   "execution_count": 246,
   "id": "6bf6fbc7",
   "metadata": {},
   "outputs": [],
   "source": [
    "class Bingo():\n",
    "    def __init__(self, boards:list, draws:list):\n",
    "        self.boards = [Board(board) for board in boards]\n",
    "        self.winners = []\n",
    "        self.draws = draws[::-1]\n",
    "        self.current_draw = int()\n",
    "        \n",
    "        \n",
    "    def start(self):\n",
    "        while len(self.winners) == 0 and len(self.draws)>0:\n",
    "            self.play_round()\n",
    "        \n",
    "        if len(self.winners)==0:\n",
    "            print(\"There no winner for this game.\")\n",
    "            return \n",
    "        \n",
    "        if len(self.winners)==1:\n",
    "            print(\"And we have a winner!\")\n",
    "            self.announce_winner(self.winners[0])\n",
    "        \n",
    "        if len(self.winners)>1:\n",
    "            # Shouldn't happen... \n",
    "            print(\"Several winners.. That's a tie!\")\n",
    "            for winner in self.winners:\n",
    "                self.announce_winner(winner)\n",
    "    \n",
    "    def play_round(self):\n",
    "        self.current_draw = self.draws.pop()\n",
    "        for i, board in enumerate(self.boards):\n",
    "            if not board.win:\n",
    "                board.lookup(self.current_draw)\n",
    "                board.check_win()\n",
    "                if board.win:\n",
    "                    print(f\"Board n°{i} won\")\n",
    "                    self.winners.append(i)\n",
    "            \n",
    "    def announce_winner(self, board_id:int):\n",
    "        score = self.get_score(board_id)\n",
    "        print(f\"Board {board_id} won with a score of {score} !\\n\")\n",
    "        print(self.boards[board_id])\n",
    "        \n",
    "        \n",
    "        \n",
    "    def get_score(self, board_id):\n",
    "        board = self.boards[board_id]\n",
    "        assert board.win\n",
    "        # sum of all unmarked numbers\n",
    "        sum_unmarked = 0\n",
    "        for i, row in enumerate(board.board):\n",
    "            for j, col in enumerate(row):\n",
    "                if board.markers[i,j] ==0:\n",
    "                    sum_unmarked += board.board[i,j]\n",
    "        \n",
    "        # Multiply by the last draw\n",
    "        score = sum_unmarked * self.current_draw\n",
    "        \n",
    "        return score"
   ]
  },
  {
   "cell_type": "code",
   "execution_count": 247,
   "id": "8155d473",
   "metadata": {},
   "outputs": [],
   "source": [
    "game = Bingo(boards, draws)"
   ]
  },
  {
   "cell_type": "code",
   "execution_count": 248,
   "id": "0048b8ca",
   "metadata": {},
   "outputs": [
    {
     "name": "stdout",
     "output_type": "stream",
     "text": [
      "Board n°66 won\n",
      "And we have a winner!\n",
      "Board 66 won with a score of 67716 !\n",
      "\n",
      "84  78  3   44  96  \n",
      "59  86  70  80  x   \n",
      "93  x   52  x   61  \n",
      "x   x   x   x   x   \n",
      "5   25  6   85  99  \n",
      "\n"
     ]
    }
   ],
   "source": [
    "game.start()"
   ]
  },
  {
   "cell_type": "code",
   "execution_count": 249,
   "id": "502cdd8b",
   "metadata": {},
   "outputs": [],
   "source": [
    "class BingoForLoosers(Bingo):\n",
    "    def __init__(self, boards, draws):\n",
    "        super().__init__(boards, draws)\n",
    "    \n",
    "    def start(self):\n",
    "        while len(self.winners) != len(boards) and len(self.draws)>0:\n",
    "            self.play_round()\n",
    "            \n",
    "        self.announce_looser(self.winners[-1])\n",
    "        \n",
    "    def announce_looser(self, board_id):\n",
    "        score = self.get_score(board_id)\n",
    "        print(f\"Board {board_id} lost with a score of {score}..\\n\")\n",
    "        print(self.boards[board_id])"
   ]
  },
  {
   "cell_type": "code",
   "execution_count": 250,
   "id": "5a54a4c3",
   "metadata": {
    "scrolled": false
   },
   "outputs": [
    {
     "name": "stdout",
     "output_type": "stream",
     "text": [
      "Board n°66 won\n",
      "Board n°93 won\n",
      "Board n°43 won\n",
      "Board n°99 won\n",
      "Board n°91 won\n",
      "Board n°51 won\n",
      "Board n°85 won\n",
      "Board n°13 won\n",
      "Board n°55 won\n",
      "Board n°62 won\n",
      "Board n°46 won\n",
      "Board n°54 won\n",
      "Board n°95 won\n",
      "Board n°60 won\n",
      "Board n°81 won\n",
      "Board n°84 won\n",
      "Board n°47 won\n",
      "Board n°88 won\n",
      "Board n°32 won\n",
      "Board n°2 won\n",
      "Board n°9 won\n",
      "Board n°58 won\n",
      "Board n°59 won\n",
      "Board n°22 won\n",
      "Board n°56 won\n",
      "Board n°86 won\n",
      "Board n°71 won\n",
      "Board n°74 won\n",
      "Board n°82 won\n",
      "Board n°90 won\n",
      "Board n°10 won\n",
      "Board n°17 won\n",
      "Board n°38 won\n",
      "Board n°24 won\n",
      "Board n°37 won\n",
      "Board n°79 won\n",
      "Board n°33 won\n",
      "Board n°0 won\n",
      "Board n°18 won\n",
      "Board n°28 won\n",
      "Board n°44 won\n",
      "Board n°76 won\n",
      "Board n°50 won\n",
      "Board n°1 won\n",
      "Board n°15 won\n",
      "Board n°39 won\n",
      "Board n°61 won\n",
      "Board n°25 won\n",
      "Board n°45 won\n",
      "Board n°8 won\n",
      "Board n°68 won\n",
      "Board n°69 won\n",
      "Board n°70 won\n",
      "Board n°96 won\n",
      "Board n°67 won\n",
      "Board n°35 won\n",
      "Board n°89 won\n",
      "Board n°26 won\n",
      "Board n°41 won\n",
      "Board n°4 won\n",
      "Board n°6 won\n",
      "Board n°21 won\n",
      "Board n°29 won\n",
      "Board n°42 won\n",
      "Board n°53 won\n",
      "Board n°65 won\n",
      "Board n°5 won\n",
      "Board n°27 won\n",
      "Board n°36 won\n",
      "Board n°77 won\n",
      "Board n°52 won\n",
      "Board n°34 won\n",
      "Board n°40 won\n",
      "Board n°57 won\n",
      "Board n°87 won\n",
      "Board n°3 won\n",
      "Board n°7 won\n",
      "Board n°20 won\n",
      "Board n°30 won\n",
      "Board n°83 won\n",
      "Board n°16 won\n",
      "Board n°48 won\n",
      "Board n°75 won\n",
      "Board n°19 won\n",
      "Board n°12 won\n",
      "Board n°72 won\n",
      "Board n°97 won\n",
      "Board n°23 won\n",
      "Board n°63 won\n",
      "Board n°80 won\n",
      "Board n°11 won\n",
      "Board n°49 won\n",
      "Board n°94 won\n",
      "Board n°78 won\n",
      "Board n°14 won\n",
      "Board n°92 won\n",
      "Board n°73 won\n",
      "Board n°98 won\n",
      "Board n°64 won\n",
      "Board n°31 won\n",
      "Board 31 lost with a score of 1830..\n",
      "\n",
      "x   x   x   x   x   \n",
      "x   70  x   x   x   \n",
      "x   53  51  x   x   \n",
      "x   25  x   x   33  \n",
      "73  x   x   x   x   \n",
      "\n"
     ]
    }
   ],
   "source": [
    "game = BingoForLoosers(boards, draws)\n",
    "game.start()"
   ]
  },
  {
   "cell_type": "code",
   "execution_count": null,
   "id": "8bb49c5f",
   "metadata": {},
   "outputs": [],
   "source": []
  }
 ],
 "metadata": {
  "kernelspec": {
   "display_name": "Python 3 (ipykernel)",
   "language": "python",
   "name": "python3"
  },
  "language_info": {
   "codemirror_mode": {
    "name": "ipython",
    "version": 3
   },
   "file_extension": ".py",
   "mimetype": "text/x-python",
   "name": "python",
   "nbconvert_exporter": "python",
   "pygments_lexer": "ipython3",
   "version": "3.10.0"
  }
 },
 "nbformat": 4,
 "nbformat_minor": 5
}
