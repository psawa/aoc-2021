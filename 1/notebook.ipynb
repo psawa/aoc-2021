{
 "cells": [
  {
   "cell_type": "markdown",
   "id": "8e8d8e8c",
   "metadata": {},
   "source": [
    "# Part 1"
   ]
  },
  {
   "cell_type": "code",
   "execution_count": 1,
   "id": "08c6e92c",
   "metadata": {},
   "outputs": [],
   "source": [
    "with open(\"input.txt\", \"r\") as f:\n",
    "    values = f.readlines()"
   ]
  },
  {
   "cell_type": "code",
   "execution_count": 2,
   "id": "4ce5e2ba",
   "metadata": {},
   "outputs": [
    {
     "data": {
      "text/plain": [
       "['173\\n',\n",
       " '179\\n',\n",
       " '200\\n',\n",
       " '210\\n',\n",
       " '226\\n',\n",
       " '229\\n',\n",
       " '220\\n',\n",
       " '221\\n',\n",
       " '228\\n',\n",
       " '233\\n']"
      ]
     },
     "execution_count": 2,
     "metadata": {},
     "output_type": "execute_result"
    }
   ],
   "source": [
    "values[:10]"
   ]
  },
  {
   "cell_type": "code",
   "execution_count": 4,
   "id": "014c27b0",
   "metadata": {},
   "outputs": [],
   "source": [
    "values = [int(v.strip()) for v in values]"
   ]
  },
  {
   "cell_type": "code",
   "execution_count": 5,
   "id": "60e7aa70",
   "metadata": {},
   "outputs": [
    {
     "data": {
      "text/plain": [
       "[173, 179, 200, 210, 226, 229, 220, 221, 228, 233]"
      ]
     },
     "execution_count": 5,
     "metadata": {},
     "output_type": "execute_result"
    }
   ],
   "source": [
    "values[:10]"
   ]
  },
  {
   "cell_type": "code",
   "execution_count": 7,
   "id": "46019815",
   "metadata": {},
   "outputs": [],
   "source": [
    "length = len(values)\n",
    "\n",
    "def is_greater_than_previous(l:list, i:int):\n",
    "    if i>0 and i<length:\n",
    "        if l[i]>l[i-1]:\n",
    "            return True\n",
    "    return False      "
   ]
  },
  {
   "cell_type": "code",
   "execution_count": 14,
   "id": "76a401f5",
   "metadata": {},
   "outputs": [],
   "source": [
    "are_greater = (is_greater_than_previous(values, i) for i in range(length))"
   ]
  },
  {
   "cell_type": "code",
   "execution_count": 15,
   "id": "c50d721d",
   "metadata": {},
   "outputs": [
    {
     "name": "stdout",
     "output_type": "stream",
     "text": [
      "1681\n"
     ]
    }
   ],
   "source": [
    "print(sum(are_greater))"
   ]
  },
  {
   "cell_type": "markdown",
   "id": "8805d594",
   "metadata": {},
   "source": [
    "# Part 2"
   ]
  },
  {
   "cell_type": "code",
   "execution_count": 18,
   "id": "ea15b246",
   "metadata": {},
   "outputs": [],
   "source": [
    "def make_sum_window(window_size:int, l:list):\n",
    "    new_list = []\n",
    "    for i in range(window_size-1, len(l)):\n",
    "        window = l[i-window_size:i]\n",
    "        new_list.append(sum(window))\n",
    "    return new_list"
   ]
  },
  {
   "cell_type": "code",
   "execution_count": 19,
   "id": "ceb2d36d",
   "metadata": {},
   "outputs": [],
   "source": [
    "sum_window_3 = make_sum_window(3, values)"
   ]
  },
  {
   "cell_type": "code",
   "execution_count": 21,
   "id": "0491896f",
   "metadata": {},
   "outputs": [
    {
     "data": {
      "text/plain": [
       "[0, 552, 589, 636, 665, 675, 670, 669, 682, 698]"
      ]
     },
     "execution_count": 21,
     "metadata": {},
     "output_type": "execute_result"
    }
   ],
   "source": [
    "sum_window_3[:10]"
   ]
  },
  {
   "cell_type": "code",
   "execution_count": 23,
   "id": "bbe680f8",
   "metadata": {},
   "outputs": [],
   "source": [
    "are_greater_window_3 = (is_greater_than_previous(sum_window_3, i) for i in range(len(sum_window_3)))"
   ]
  },
  {
   "cell_type": "code",
   "execution_count": 24,
   "id": "e4bcf569",
   "metadata": {},
   "outputs": [
    {
     "name": "stdout",
     "output_type": "stream",
     "text": [
      "1704\n"
     ]
    }
   ],
   "source": [
    "print(sum(are_greater_window_3))"
   ]
  },
  {
   "cell_type": "code",
   "execution_count": null,
   "id": "4ec16906",
   "metadata": {},
   "outputs": [],
   "source": []
  }
 ],
 "metadata": {
  "kernelspec": {
   "display_name": "Python 3",
   "language": "python",
   "name": "python3"
  },
  "language_info": {
   "codemirror_mode": {
    "name": "ipython",
    "version": 3
   },
   "file_extension": ".py",
   "mimetype": "text/x-python",
   "name": "python",
   "nbconvert_exporter": "python",
   "pygments_lexer": "ipython3",
   "version": "3.6.8"
  }
 },
 "nbformat": 4,
 "nbformat_minor": 5
}
