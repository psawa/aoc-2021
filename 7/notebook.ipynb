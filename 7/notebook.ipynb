{
 "cells": [
  {
   "cell_type": "code",
   "execution_count": 21,
   "id": "c5df23f9",
   "metadata": {},
   "outputs": [],
   "source": [
    "with open(\"input.txt\", \"r\") as f:\n",
    "    crabs = [int(x) for x in f.read().split(\",\")]\n",
    "    \n",
    "test = [16,1,2,0,4,2,7,1,2,14]"
   ]
  },
  {
   "cell_type": "code",
   "execution_count": 59,
   "id": "56576f87",
   "metadata": {},
   "outputs": [],
   "source": [
    "import numpy as np\n",
    "\n",
    "# approach : computing the summed distance to a give point for all the crabs\n",
    "# then chosing the min\n",
    "\n",
    "def solve(crabs:list, is_constant = True):\n",
    "    min_val, max_val = min(crabs), max(crabs)\n",
    "    consumptions = []\n",
    "    \n",
    "    for i in range(min_val, max_val+1):\n",
    "        if is_constant:\n",
    "            fuels = [abs(i-c) for c in crabs]\n",
    "        else:\n",
    "            # n*(n+1)/2 = 1+2+...+n\n",
    "            fuels = [(abs(i-c)*(abs(i-c)+1))/2 for c in crabs]\n",
    "            \n",
    "        consumptions.append(sum(fuels))\n",
    "\n",
    "    return np.argmin(consumptions), min(consumptions)"
   ]
  },
  {
   "cell_type": "code",
   "execution_count": 62,
   "id": "6d8d7dd1",
   "metadata": {
    "scrolled": true
   },
   "outputs": [
    {
     "name": "stdout",
     "output_type": "stream",
     "text": [
      "CPU times: user 183 ms, sys: 4.37 ms, total: 188 ms\n",
      "Wall time: 189 ms\n"
     ]
    },
    {
     "data": {
      "text/plain": [
       "(321, 335330)"
      ]
     },
     "execution_count": 62,
     "metadata": {},
     "output_type": "execute_result"
    }
   ],
   "source": [
    "# part 1\n",
    "%time solve(crabs, is_constant = True)"
   ]
  },
  {
   "cell_type": "code",
   "execution_count": 64,
   "id": "99480812",
   "metadata": {},
   "outputs": [
    {
     "name": "stdout",
     "output_type": "stream",
     "text": [
      "CPU times: user 471 ms, sys: 4.59 ms, total: 476 ms\n",
      "Wall time: 476 ms\n"
     ]
    },
    {
     "data": {
      "text/plain": [
       "(457, 92439766.0)"
      ]
     },
     "execution_count": 64,
     "metadata": {},
     "output_type": "execute_result"
    }
   ],
   "source": [
    "# part 2\n",
    "%time solve(crabs, is_constant = False)"
   ]
  },
  {
   "cell_type": "code",
   "execution_count": null,
   "id": "b73d810a",
   "metadata": {},
   "outputs": [],
   "source": []
  }
 ],
 "metadata": {
  "kernelspec": {
   "display_name": "Python 3 (ipykernel)",
   "language": "python",
   "name": "python3"
  },
  "language_info": {
   "codemirror_mode": {
    "name": "ipython",
    "version": 3
   },
   "file_extension": ".py",
   "mimetype": "text/x-python",
   "name": "python",
   "nbconvert_exporter": "python",
   "pygments_lexer": "ipython3",
   "version": "3.10.0"
  }
 },
 "nbformat": 4,
 "nbformat_minor": 5
}
