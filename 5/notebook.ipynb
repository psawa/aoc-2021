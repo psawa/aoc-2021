{
 "cells": [
  {
   "cell_type": "code",
   "execution_count": 8,
   "id": "f8589853",
   "metadata": {},
   "outputs": [],
   "source": [
    "# parsing\n",
    "def parse(text_file):\n",
    "    with open(text_file, \"r\") as f:\n",
    "        vents = []\n",
    "        for line in f: \n",
    "            left, right = line.split(\" -> \")\n",
    "            left = left.split(\",\")\n",
    "            right = right.split(\",\")\n",
    "            x0,y0 = int(left[0]), int(left[1])\n",
    "            x1,y1 = int(right[0]), int(right[1])\n",
    "            vents.append(((x0,y0), (x1,y1)))\n",
    "    return vents\n",
    "\n",
    "vents = parse(\"input.txt\")"
   ]
  },
  {
   "cell_type": "code",
   "execution_count": 9,
   "id": "cbff7c81",
   "metadata": {},
   "outputs": [
    {
     "name": "stdout",
     "output_type": "stream",
     "text": [
      "[((641, 650), (850, 650)), ((424, 208), (351, 135)), ((31, 985), (988, 28))]\n",
      "500\n"
     ]
    }
   ],
   "source": [
    "print(vents[-3:])\n",
    "print(len(vents))"
   ]
  },
  {
   "cell_type": "code",
   "execution_count": 13,
   "id": "5287737f",
   "metadata": {},
   "outputs": [],
   "source": [
    "from collections import Counter\n",
    "\n",
    "def solve(vents, diagonal=False):\n",
    "    cells = []\n",
    "    for vent in vents:\n",
    "        x0,y0,x1,y1 = vent[0][0], vent[0][1], vent[1][0], vent[1][1]\n",
    "        \n",
    "        dx = 0 if x0==x1 else 1 if x0<x1 else -1 # horizontal direction of the vent\n",
    "        dy = 0 if y0==y1 else 1 if y0<y1 else -1 # vertical direction of the vent\n",
    "        sz = 1 + max(abs(x0-x1), abs(y0-y1)) # length of longest direction of the vent +1\n",
    "                \n",
    "        # considering diagonal vents only if diagonal flag\n",
    "        if diagonal or dx==0 or dy==0: \n",
    "            cells.extend(\n",
    "                [(x0+i*dx, y0+i*dy) for i in range(sz)]\n",
    "                # x0+i*dx = \n",
    "            )\n",
    "\n",
    "    count = Counter(cells)\n",
    "    return sum(1 for c in count if count[c]>1)"
   ]
  },
  {
   "cell_type": "code",
   "execution_count": 11,
   "id": "d90f28de",
   "metadata": {},
   "outputs": [
    {
     "data": {
      "text/plain": [
       "(8350, 19374)"
      ]
     },
     "execution_count": 11,
     "metadata": {},
     "output_type": "execute_result"
    }
   ],
   "source": [
    "solve(vents), solve(vents, diagonal = True)"
   ]
  },
  {
   "cell_type": "code",
   "execution_count": null,
   "id": "aa9565f5",
   "metadata": {},
   "outputs": [],
   "source": []
  }
 ],
 "metadata": {
  "kernelspec": {
   "display_name": "Python 3 (ipykernel)",
   "language": "python",
   "name": "python3"
  },
  "language_info": {
   "codemirror_mode": {
    "name": "ipython",
    "version": 3
   },
   "file_extension": ".py",
   "mimetype": "text/x-python",
   "name": "python",
   "nbconvert_exporter": "python",
   "pygments_lexer": "ipython3",
   "version": "3.10.0"
  }
 },
 "nbformat": 4,
 "nbformat_minor": 5
}
